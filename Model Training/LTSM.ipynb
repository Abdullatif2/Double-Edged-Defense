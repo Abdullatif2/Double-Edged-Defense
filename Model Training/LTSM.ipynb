{
 "cells": [
  {
   "cell_type": "code",
   "execution_count": 268,
   "id": "711a0685",
   "metadata": {},
   "outputs": [],
   "source": [
    "import pandas as pd \n",
    "from sklearn.model_selection import train_test_split\n",
    "from sklearn.utils import resample\n",
    "from sklearn import metrics\n",
    "import matplotlib.pyplot as plt\n",
    "from sklearn import tree\n",
    "import os\n",
    "import torch \n",
    "from decimal import Decimal\n",
    "from torch.utils.data import Dataset, DataLoader,TensorDataset\n",
    "import numpy as np\n",
    "import math\n",
    "import random\n",
    "import torch\n",
    "import torch.nn as nn\n",
    "import torch.nn.parallel\n",
    "import torch.optim as optim\n",
    "import torch.utils.data\n",
    "import matplotlib.pyplot as plt\n",
    "import multiprocessing\n",
    "import glob\n",
    "import os\n",
    "from scipy import linalg\n",
    "import torch.nn.functional as F\n",
    "from sklearn.preprocessing import StandardScaler, LabelEncoder, MinMaxScaler\n",
    "from sklearn.preprocessing import OneHotEncoder\n",
    "from torch.autograd import Variable "
   ]
  },
  {
   "cell_type": "code",
   "execution_count": 269,
   "id": "64aad72b",
   "metadata": {},
   "outputs": [],
   "source": [
    "df=pd.read_csv('data_with_ioa.csv')"
   ]
  },
  {
   "cell_type": "code",
   "execution_count": 270,
   "id": "ee5cfd27",
   "metadata": {},
   "outputs": [],
   "source": [
    "df.drop(columns=df.columns[0], axis=1, inplace=True)"
   ]
  },
  {
   "cell_type": "code",
   "execution_count": 271,
   "id": "ac3fd42d",
   "metadata": {},
   "outputs": [
    {
     "data": {
      "text/html": [
       "<div>\n",
       "<style scoped>\n",
       "    .dataframe tbody tr th:only-of-type {\n",
       "        vertical-align: middle;\n",
       "    }\n",
       "\n",
       "    .dataframe tbody tr th {\n",
       "        vertical-align: top;\n",
       "    }\n",
       "\n",
       "    .dataframe thead th {\n",
       "        text-align: right;\n",
       "    }\n",
       "</style>\n",
       "<table border=\"1\" class=\"dataframe\">\n",
       "  <thead>\n",
       "    <tr style=\"text-align: right;\">\n",
       "      <th></th>\n",
       "      <th>TimeStamp</th>\n",
       "      <th>Relative Time</th>\n",
       "      <th>srcIP</th>\n",
       "      <th>dstIP</th>\n",
       "      <th>srcPort</th>\n",
       "      <th>dstPort</th>\n",
       "      <th>ipLen</th>\n",
       "      <th>len</th>\n",
       "      <th>fmt</th>\n",
       "      <th>uType</th>\n",
       "      <th>asduType</th>\n",
       "      <th>numix</th>\n",
       "      <th>cot</th>\n",
       "      <th>oa</th>\n",
       "      <th>addr</th>\n",
       "      <th>ioa</th>\n",
       "      <th>label</th>\n",
       "    </tr>\n",
       "  </thead>\n",
       "  <tbody>\n",
       "    <tr>\n",
       "      <th>0</th>\n",
       "      <td>14.414498</td>\n",
       "      <td>7.988096</td>\n",
       "      <td>3232238447</td>\n",
       "      <td>3232238584</td>\n",
       "      <td>61254</td>\n",
       "      <td>2404</td>\n",
       "      <td>46</td>\n",
       "      <td>4</td>\n",
       "      <td>0</td>\n",
       "      <td>0.0</td>\n",
       "      <td>9.0</td>\n",
       "      <td>1.0</td>\n",
       "      <td>3.0</td>\n",
       "      <td>0.0</td>\n",
       "      <td>55.0</td>\n",
       "      <td>136.0</td>\n",
       "      <td>0</td>\n",
       "    </tr>\n",
       "    <tr>\n",
       "      <th>1</th>\n",
       "      <td>14.414498</td>\n",
       "      <td>7.988457</td>\n",
       "      <td>3232238584</td>\n",
       "      <td>3232238447</td>\n",
       "      <td>2404</td>\n",
       "      <td>61254</td>\n",
       "      <td>46</td>\n",
       "      <td>4</td>\n",
       "      <td>0</td>\n",
       "      <td>1.0</td>\n",
       "      <td>9.0</td>\n",
       "      <td>1.0</td>\n",
       "      <td>3.0</td>\n",
       "      <td>0.0</td>\n",
       "      <td>55.0</td>\n",
       "      <td>136.0</td>\n",
       "      <td>0</td>\n",
       "    </tr>\n",
       "    <tr>\n",
       "      <th>2</th>\n",
       "      <td>14.414519</td>\n",
       "      <td>8.191193</td>\n",
       "      <td>3232238584</td>\n",
       "      <td>3232238447</td>\n",
       "      <td>2404</td>\n",
       "      <td>61254</td>\n",
       "      <td>90</td>\n",
       "      <td>21</td>\n",
       "      <td>1</td>\n",
       "      <td>2.0</td>\n",
       "      <td>31.0</td>\n",
       "      <td>1.0</td>\n",
       "      <td>3.0</td>\n",
       "      <td>0.0</td>\n",
       "      <td>65535.0</td>\n",
       "      <td>0.0</td>\n",
       "      <td>0</td>\n",
       "    </tr>\n",
       "    <tr>\n",
       "      <th>3</th>\n",
       "      <td>14.414519</td>\n",
       "      <td>8.191193</td>\n",
       "      <td>3232238584</td>\n",
       "      <td>3232238447</td>\n",
       "      <td>2404</td>\n",
       "      <td>61254</td>\n",
       "      <td>90</td>\n",
       "      <td>25</td>\n",
       "      <td>1</td>\n",
       "      <td>2.0</td>\n",
       "      <td>36.0</td>\n",
       "      <td>1.0</td>\n",
       "      <td>3.0</td>\n",
       "      <td>0.0</td>\n",
       "      <td>65535.0</td>\n",
       "      <td>1.0</td>\n",
       "      <td>0</td>\n",
       "    </tr>\n",
       "    <tr>\n",
       "      <th>4</th>\n",
       "      <td>14.414847</td>\n",
       "      <td>11.477121</td>\n",
       "      <td>3232238584</td>\n",
       "      <td>3232238447</td>\n",
       "      <td>2404</td>\n",
       "      <td>61254</td>\n",
       "      <td>67</td>\n",
       "      <td>25</td>\n",
       "      <td>1</td>\n",
       "      <td>2.0</td>\n",
       "      <td>36.0</td>\n",
       "      <td>1.0</td>\n",
       "      <td>3.0</td>\n",
       "      <td>0.0</td>\n",
       "      <td>65535.0</td>\n",
       "      <td>1.0</td>\n",
       "      <td>0</td>\n",
       "    </tr>\n",
       "    <tr>\n",
       "      <th>...</th>\n",
       "      <td>...</td>\n",
       "      <td>...</td>\n",
       "      <td>...</td>\n",
       "      <td>...</td>\n",
       "      <td>...</td>\n",
       "      <td>...</td>\n",
       "      <td>...</td>\n",
       "      <td>...</td>\n",
       "      <td>...</td>\n",
       "      <td>...</td>\n",
       "      <td>...</td>\n",
       "      <td>...</td>\n",
       "      <td>...</td>\n",
       "      <td>...</td>\n",
       "      <td>...</td>\n",
       "      <td>...</td>\n",
       "      <td>...</td>\n",
       "    </tr>\n",
       "    <tr>\n",
       "      <th>2248192</th>\n",
       "      <td>10.443944</td>\n",
       "      <td>585025.305059</td>\n",
       "      <td>167772427</td>\n",
       "      <td>167772461</td>\n",
       "      <td>2404</td>\n",
       "      <td>49716</td>\n",
       "      <td>58</td>\n",
       "      <td>16</td>\n",
       "      <td>1</td>\n",
       "      <td>2.0</td>\n",
       "      <td>9.0</td>\n",
       "      <td>1.0</td>\n",
       "      <td>3.0</td>\n",
       "      <td>0.0</td>\n",
       "      <td>55.0</td>\n",
       "      <td>136.0</td>\n",
       "      <td>0</td>\n",
       "    </tr>\n",
       "    <tr>\n",
       "      <th>2248193</th>\n",
       "      <td>10.443986</td>\n",
       "      <td>585025.721693</td>\n",
       "      <td>167772427</td>\n",
       "      <td>167772461</td>\n",
       "      <td>2404</td>\n",
       "      <td>49716</td>\n",
       "      <td>58</td>\n",
       "      <td>16</td>\n",
       "      <td>1</td>\n",
       "      <td>2.0</td>\n",
       "      <td>9.0</td>\n",
       "      <td>1.0</td>\n",
       "      <td>3.0</td>\n",
       "      <td>0.0</td>\n",
       "      <td>55.0</td>\n",
       "      <td>136.0</td>\n",
       "      <td>0</td>\n",
       "    </tr>\n",
       "    <tr>\n",
       "      <th>2248194</th>\n",
       "      <td>10.444037</td>\n",
       "      <td>585026.232151</td>\n",
       "      <td>167772427</td>\n",
       "      <td>167772461</td>\n",
       "      <td>2404</td>\n",
       "      <td>49716</td>\n",
       "      <td>58</td>\n",
       "      <td>16</td>\n",
       "      <td>1</td>\n",
       "      <td>2.0</td>\n",
       "      <td>9.0</td>\n",
       "      <td>1.0</td>\n",
       "      <td>3.0</td>\n",
       "      <td>0.0</td>\n",
       "      <td>55.0</td>\n",
       "      <td>136.0</td>\n",
       "      <td>0</td>\n",
       "    </tr>\n",
       "    <tr>\n",
       "      <th>2248195</th>\n",
       "      <td>10.444088</td>\n",
       "      <td>585026.741693</td>\n",
       "      <td>167772427</td>\n",
       "      <td>167772461</td>\n",
       "      <td>2404</td>\n",
       "      <td>49716</td>\n",
       "      <td>58</td>\n",
       "      <td>16</td>\n",
       "      <td>1</td>\n",
       "      <td>2.0</td>\n",
       "      <td>9.0</td>\n",
       "      <td>1.0</td>\n",
       "      <td>3.0</td>\n",
       "      <td>0.0</td>\n",
       "      <td>55.0</td>\n",
       "      <td>136.0</td>\n",
       "      <td>0</td>\n",
       "    </tr>\n",
       "    <tr>\n",
       "      <th>2248196</th>\n",
       "      <td>10.444109</td>\n",
       "      <td>585026.958705</td>\n",
       "      <td>167772427</td>\n",
       "      <td>167772461</td>\n",
       "      <td>2404</td>\n",
       "      <td>49716</td>\n",
       "      <td>58</td>\n",
       "      <td>16</td>\n",
       "      <td>1</td>\n",
       "      <td>2.0</td>\n",
       "      <td>9.0</td>\n",
       "      <td>1.0</td>\n",
       "      <td>3.0</td>\n",
       "      <td>0.0</td>\n",
       "      <td>55.0</td>\n",
       "      <td>137.0</td>\n",
       "      <td>0</td>\n",
       "    </tr>\n",
       "  </tbody>\n",
       "</table>\n",
       "<p>2248197 rows × 17 columns</p>\n",
       "</div>"
      ],
      "text/plain": [
       "         TimeStamp  Relative Time       srcIP       dstIP  srcPort  dstPort  \\\n",
       "0        14.414498       7.988096  3232238447  3232238584    61254     2404   \n",
       "1        14.414498       7.988457  3232238584  3232238447     2404    61254   \n",
       "2        14.414519       8.191193  3232238584  3232238447     2404    61254   \n",
       "3        14.414519       8.191193  3232238584  3232238447     2404    61254   \n",
       "4        14.414847      11.477121  3232238584  3232238447     2404    61254   \n",
       "...            ...            ...         ...         ...      ...      ...   \n",
       "2248192  10.443944  585025.305059   167772427   167772461     2404    49716   \n",
       "2248193  10.443986  585025.721693   167772427   167772461     2404    49716   \n",
       "2248194  10.444037  585026.232151   167772427   167772461     2404    49716   \n",
       "2248195  10.444088  585026.741693   167772427   167772461     2404    49716   \n",
       "2248196  10.444109  585026.958705   167772427   167772461     2404    49716   \n",
       "\n",
       "         ipLen  len  fmt  uType  asduType  numix  cot   oa     addr    ioa  \\\n",
       "0           46    4    0    0.0       9.0    1.0  3.0  0.0     55.0  136.0   \n",
       "1           46    4    0    1.0       9.0    1.0  3.0  0.0     55.0  136.0   \n",
       "2           90   21    1    2.0      31.0    1.0  3.0  0.0  65535.0    0.0   \n",
       "3           90   25    1    2.0      36.0    1.0  3.0  0.0  65535.0    1.0   \n",
       "4           67   25    1    2.0      36.0    1.0  3.0  0.0  65535.0    1.0   \n",
       "...        ...  ...  ...    ...       ...    ...  ...  ...      ...    ...   \n",
       "2248192     58   16    1    2.0       9.0    1.0  3.0  0.0     55.0  136.0   \n",
       "2248193     58   16    1    2.0       9.0    1.0  3.0  0.0     55.0  136.0   \n",
       "2248194     58   16    1    2.0       9.0    1.0  3.0  0.0     55.0  136.0   \n",
       "2248195     58   16    1    2.0       9.0    1.0  3.0  0.0     55.0  136.0   \n",
       "2248196     58   16    1    2.0       9.0    1.0  3.0  0.0     55.0  137.0   \n",
       "\n",
       "         label  \n",
       "0            0  \n",
       "1            0  \n",
       "2            0  \n",
       "3            0  \n",
       "4            0  \n",
       "...        ...  \n",
       "2248192      0  \n",
       "2248193      0  \n",
       "2248194      0  \n",
       "2248195      0  \n",
       "2248196      0  \n",
       "\n",
       "[2248197 rows x 17 columns]"
      ]
     },
     "execution_count": 271,
     "metadata": {},
     "output_type": "execute_result"
    }
   ],
   "source": [
    "df"
   ]
  },
  {
   "cell_type": "code",
   "execution_count": 272,
   "id": "fb6dfa4a",
   "metadata": {},
   "outputs": [],
   "source": [
    "#All sampling\n",
    "data_train_sampled=pd.DataFrame([],columns=df.columns.values,dtype=float)\n",
    "sampling=2000\n",
    "for i in df['label'].unique():\n",
    "    if df[df['label']==i].shape[0]>sampling:\n",
    "        \n",
    "        data_s = resample(df[df['label']==i], replace=False,n_samples=sampling,random_state=123)\n",
    "        data_train_sampled=pd.concat([data_train_sampled,data_s])\n",
    "    else:\n",
    "        data_s = resample(df[df['label']==i], replace=True,n_samples=sampling,random_state=123) \n",
    "        data_train_sampled=pd.concat([data_train_sampled,data_s])"
   ]
  },
  {
   "cell_type": "code",
   "execution_count": 273,
   "id": "e1ab7e4c",
   "metadata": {},
   "outputs": [],
   "source": [
    "# X,y = df.iloc[:, :-1], df.iloc[:, [-1]]\n",
    "X,y = data_train_sampled.iloc[:, :-1], data_train_sampled.iloc[:, [-1]]\n"
   ]
  },
  {
   "cell_type": "code",
   "execution_count": 274,
   "id": "a5c288a7",
   "metadata": {},
   "outputs": [],
   "source": [
    "mm = MinMaxScaler()\n",
    "ss = StandardScaler()\n",
    "\n",
    "\n",
    "X_ss = ss.fit_transform(X)\n",
    "y_mm = mm.fit_transform(y) \n"
   ]
  },
  {
   "cell_type": "code",
   "execution_count": 275,
   "id": "66e6c47b",
   "metadata": {},
   "outputs": [
    {
     "data": {
      "text/plain": [
       "array([0., 0., 0., ..., 1., 1., 1.])"
      ]
     },
     "execution_count": 275,
     "metadata": {},
     "output_type": "execute_result"
    }
   ],
   "source": [
    "y_mm[:,0]"
   ]
  },
  {
   "cell_type": "code",
   "execution_count": 276,
   "id": "6586c511",
   "metadata": {},
   "outputs": [],
   "source": [
    "X_train, X_test, y_train, y_test = train_test_split(X_ss, y_mm, test_size=0.3,random_state=109) # 70% training and 30% test\n"
   ]
  },
  {
   "cell_type": "code",
   "execution_count": 277,
   "id": "ed4543cf",
   "metadata": {},
   "outputs": [
    {
     "data": {
      "text/plain": [
       "(9800, 16)"
      ]
     },
     "execution_count": 277,
     "metadata": {},
     "output_type": "execute_result"
    }
   ],
   "source": [
    "X_train.shape"
   ]
  },
  {
   "cell_type": "code",
   "execution_count": 278,
   "id": "577f78c4",
   "metadata": {},
   "outputs": [],
   "source": [
    "X_train_tensors = Variable(torch.Tensor(X_train))\n",
    "X_test_tensors = Variable(torch.Tensor(X_test))\n",
    "\n",
    "y_train_tensors = Variable(torch.Tensor(y_train))\n",
    "y_test_tensors = Variable(torch.Tensor(y_test)) "
   ]
  },
  {
   "cell_type": "code",
   "execution_count": 279,
   "id": "24f80664",
   "metadata": {},
   "outputs": [],
   "source": [
    "#reshaping to rows, timestamps, features\n",
    "\n",
    "X_train_tensors_final = torch.reshape(X_train_tensors,   (X_train_tensors.shape[0], 1, X_train_tensors.shape[1]))\n",
    "\n",
    "\n",
    "X_test_tensors_final = torch.reshape(X_test_tensors,  (X_test_tensors.shape[0], 1, X_test_tensors.shape[1])) "
   ]
  },
  {
   "cell_type": "code",
   "execution_count": 280,
   "id": "6ef28f6f",
   "metadata": {},
   "outputs": [
    {
     "name": "stdout",
     "output_type": "stream",
     "text": [
      "Training Shape torch.Size([9800, 1, 16]) torch.Size([9800, 1])\n",
      "Testing Shape torch.Size([4200, 1, 16]) torch.Size([4200, 1])\n"
     ]
    }
   ],
   "source": [
    "print(\"Training Shape\", X_train_tensors_final.shape, y_train_tensors.shape)\n",
    "print(\"Testing Shape\", X_test_tensors_final.shape, y_test_tensors.shape) "
   ]
  },
  {
   "cell_type": "code",
   "execution_count": 281,
   "id": "5cf150db",
   "metadata": {},
   "outputs": [],
   "source": [
    "class LSTM1(nn.Module):\n",
    "    def __init__(self, num_classes, input_size, hidden_size, num_layers, seq_length):\n",
    "        super(LSTM1, self).__init__()\n",
    "        self.num_classes = num_classes #number of classes\n",
    "        self.num_layers = num_layers #number of layers\n",
    "        self.input_size = input_size #input size\n",
    "        self.hidden_size = hidden_size #hidden state\n",
    "        self.seq_length = seq_length #sequence length\n",
    "\n",
    "        self.lstm = nn.LSTM(input_size=input_size, hidden_size=hidden_size,\n",
    "                          num_layers=num_layers, batch_first=True) #lstm\n",
    "        self.fc_1 =  nn.Linear(hidden_size, 128) #fully connected 1\n",
    "        self.fc = nn.Linear(128, num_classes) #fully connected last layer\n",
    "\n",
    "        self.relu = nn.ReLU()\n",
    "    \n",
    "    def forward(self,x):\n",
    "        h_0 = Variable(torch.zeros(self.num_layers, x.size(0), self.hidden_size)) #hidden state\n",
    "        c_0 = Variable(torch.zeros(self.num_layers, x.size(0), self.hidden_size)) #internal state\n",
    "        # Propagate input through LSTM\n",
    "        output, (hn, cn) = self.lstm(x, (h_0, c_0)) #lstm with input, hidden, and internal state\n",
    "        hn = hn.view(-1, self.hidden_size) #reshaping the data for Dense layer next\n",
    "        out = self.relu(hn)\n",
    "        out = self.fc_1(out) #first Dense\n",
    "        out = self.relu(out) #relu\n",
    "        out = self.fc(out) #Final Output\n",
    "        return out\n"
   ]
  },
  {
   "cell_type": "code",
   "execution_count": 282,
   "id": "4ada3561",
   "metadata": {},
   "outputs": [],
   "source": [
    "num_epochs = 1000 #1000 epochs\n",
    "learning_rate = 0.001 #0.001 lr\n",
    "\n",
    "input_size = df.shape[1]-1 #number of features\n",
    "hidden_size = 2 #number of features in hidden state\n",
    "num_layers = 1 #number of stacked lstm layers\n",
    "\n",
    "num_classes = len(df['label'].unique()) #number of output classes "
   ]
  },
  {
   "cell_type": "code",
   "execution_count": 283,
   "id": "7f2cb6a9",
   "metadata": {},
   "outputs": [],
   "source": [
    "lstm1 = LSTM1(num_classes, input_size, hidden_size, num_layers, X_train_tensors_final.shape[1]) #our lstm class "
   ]
  },
  {
   "cell_type": "code",
   "execution_count": 284,
   "id": "c4409393",
   "metadata": {},
   "outputs": [],
   "source": [
    "criterion = torch.nn.MSELoss()    # mean-squared error for regression\n",
    "optimizer = torch.optim.Adam(lstm1.parameters(), lr=learning_rate) "
   ]
  },
  {
   "cell_type": "code",
   "execution_count": 285,
   "id": "ff8371dd",
   "metadata": {},
   "outputs": [
    {
     "name": "stderr",
     "output_type": "stream",
     "text": [
      "/Users/hadeerteryak/miniforge3/lib/python3.9/site-packages/torch/nn/modules/loss.py:536: UserWarning: Using a target size (torch.Size([9800, 1])) that is different to the input size (torch.Size([9800, 7])). This will likely lead to incorrect results due to broadcasting. Please ensure they have the same size.\n",
      "  return F.mse_loss(input, target, reduction=self.reduction)\n"
     ]
    },
    {
     "name": "stdout",
     "output_type": "stream",
     "text": [
      "Epoch: 0, loss: 0.41506\n",
      "Epoch: 100, loss: 0.08323\n",
      "Epoch: 200, loss: 0.04887\n",
      "Epoch: 300, loss: 0.04310\n",
      "Epoch: 400, loss: 0.04179\n",
      "Epoch: 500, loss: 0.04108\n",
      "Epoch: 600, loss: 0.04046\n",
      "Epoch: 700, loss: 0.03969\n",
      "Epoch: 800, loss: 0.03887\n",
      "Epoch: 900, loss: 0.03842\n"
     ]
    }
   ],
   "source": [
    "for epoch in range(num_epochs):\n",
    "  outputs = lstm1.forward(X_train_tensors_final) #forward pass\n",
    "  optimizer.zero_grad() #caluclate the gradient, manually setting to 0\n",
    " \n",
    "  # obtain the loss function\n",
    "  loss = criterion(outputs, y_train_tensors)\n",
    " \n",
    "  loss.backward() #calculates the loss of the loss function\n",
    " \n",
    "  optimizer.step() #improve from loss, i.e backprop\n",
    "  if epoch % 100 == 0:\n",
    "    print(\"Epoch: %d, loss: %1.5f\" % (epoch, loss.item())) "
   ]
  },
  {
   "cell_type": "code",
   "execution_count": 286,
   "id": "6c4c2f3b",
   "metadata": {},
   "outputs": [],
   "source": [
    "df_X_ss = ss.transform(df.iloc[:, :-1]) #old transformers\n",
    "df_y_mm = mm.transform(df.iloc[:, -1:]) #old transformers\n",
    "\n",
    "df_X_ss = Variable(torch.Tensor(df_X_ss)) #converting to Tensors\n",
    "df_y_mm = Variable(torch.Tensor(df_y_mm))\n",
    "#reshaping the dataset\n",
    "df_X_ss = torch.reshape(df_X_ss, (df_X_ss.shape[0], 1, df_X_ss.shape[1])) "
   ]
  },
  {
   "cell_type": "code",
   "execution_count": 287,
   "id": "d4874be5",
   "metadata": {},
   "outputs": [
    {
     "data": {
      "image/png": "[encoded data removed]",
      "text/plain": [
       "<Figure size 1000x600 with 1 Axes>"
      ]
     },
     "metadata": {},
     "output_type": "display_data"
    }
   ],
   "source": [
    "train_predict = lstm1(df_X_ss)#forward pass\n",
    "data_predict = train_predict.data.numpy() #numpy conversion\n",
    "dataY_plot = df_y_mm.data.numpy()\n",
    "\n",
    "data_predict = mm.inverse_transform(data_predict) #reverse transformation\n",
    "dataY_plot = mm.inverse_transform(dataY_plot)\n",
    "plt.figure(figsize=(10,6)) #plotting\n",
    "plt.axvline(x=200, c='r', linestyle='--') #size of the training set\n",
    "\n",
    "plt.plot(dataY_plot, label='Actuall Data') #actual plot\n",
    "plt.plot(data_predict, label='Predicted Data') #predicted plot\n",
    "plt.title('Time-Series Prediction')\n",
    "plt.legend()\n",
    "plt.show() "
   ]
  },
  {
   "cell_type": "code",
   "execution_count": 259,
   "id": "464d15ed",
   "metadata": {},
   "outputs": [
    {
     "data": {
      "text/plain": [
       "array([[0.],\n",
       "       [0.],\n",
       "       [0.],\n",
       "       ...,\n",
       "       [0.],\n",
       "       [0.],\n",
       "       [0.]], dtype=float32)"
      ]
     },
     "execution_count": 259,
     "metadata": {},
     "output_type": "execute_result"
    }
   ],
   "source": [
    "dataY_plot\n"
   ]
  },
  {
   "cell_type": "code",
   "execution_count": 260,
   "id": "ec42d8a9",
   "metadata": {},
   "outputs": [
    {
     "data": {
      "text/plain": [
       "array([4, 1, 4, ..., 1, 1, 1])"
      ]
     },
     "execution_count": 260,
     "metadata": {},
     "output_type": "execute_result"
    }
   ],
   "source": [
    "np.argmax(data_predict,axis=1)"
   ]
  },
  {
   "cell_type": "code",
   "execution_count": 261,
   "id": "f60dc8e0",
   "metadata": {},
   "outputs": [
    {
     "name": "stderr",
     "output_type": "stream",
     "text": [
      "/Users/hadeerteryak/miniforge3/lib/python3.9/site-packages/sklearn/metrics/_classification.py:1318: UndefinedMetricWarning: Precision and F-score are ill-defined and being set to 0.0 in labels with no predicted samples. Use `zero_division` parameter to control this behavior.\n",
      "  _warn_prf(average, modifier, msg_start, len(result))\n",
      "/Users/hadeerteryak/miniforge3/lib/python3.9/site-packages/sklearn/metrics/_classification.py:1318: UndefinedMetricWarning: Recall and F-score are ill-defined and being set to 0.0 in labels with no true samples. Use `zero_division` parameter to control this behavior.\n",
      "  _warn_prf(average, modifier, msg_start, len(result))\n",
      "/Users/hadeerteryak/miniforge3/lib/python3.9/site-packages/sklearn/metrics/_classification.py:1318: UndefinedMetricWarning: Precision and F-score are ill-defined and being set to 0.0 in labels with no predicted samples. Use `zero_division` parameter to control this behavior.\n",
      "  _warn_prf(average, modifier, msg_start, len(result))\n",
      "/Users/hadeerteryak/miniforge3/lib/python3.9/site-packages/sklearn/metrics/_classification.py:1318: UndefinedMetricWarning: Recall and F-score are ill-defined and being set to 0.0 in labels with no true samples. Use `zero_division` parameter to control this behavior.\n",
      "  _warn_prf(average, modifier, msg_start, len(result))\n"
     ]
    },
    {
     "name": "stdout",
     "output_type": "stream",
     "text": [
      "              precision    recall  f1-score   support\n",
      "\n",
      "         0.0       0.81      0.06      0.12   1644290\n",
      "         1.0       0.00      0.00      0.00         0\n",
      "         2.0       0.00      0.00      0.00         0\n",
      "         3.0       0.00      0.00      0.00         0\n",
      "         4.0       0.00      0.00      0.00         0\n",
      "         5.0       0.00      0.00      0.00         0\n",
      "         7.0       0.00      0.00      0.00     43403\n",
      "         8.0       0.00      0.00      0.00     43831\n",
      "         9.0       0.00      0.00      0.00     16542\n",
      "        10.0       0.00      0.00      0.00     27504\n",
      "        11.0       0.00      0.00      0.00     37363\n",
      "\n",
      "    accuracy                           0.06   1812933\n",
      "   macro avg       0.07      0.01      0.01   1812933\n",
      "weighted avg       0.74      0.06      0.11   1812933\n",
      "\n"
     ]
    },
    {
     "name": "stderr",
     "output_type": "stream",
     "text": [
      "/Users/hadeerteryak/miniforge3/lib/python3.9/site-packages/sklearn/metrics/_classification.py:1318: UndefinedMetricWarning: Precision and F-score are ill-defined and being set to 0.0 in labels with no predicted samples. Use `zero_division` parameter to control this behavior.\n",
      "  _warn_prf(average, modifier, msg_start, len(result))\n",
      "/Users/hadeerteryak/miniforge3/lib/python3.9/site-packages/sklearn/metrics/_classification.py:1318: UndefinedMetricWarning: Recall and F-score are ill-defined and being set to 0.0 in labels with no true samples. Use `zero_division` parameter to control this behavior.\n",
      "  _warn_prf(average, modifier, msg_start, len(result))\n"
     ]
    }
   ],
   "source": [
    "print(metrics.classification_report(dataY_plot, np.argmax(data_predict,axis=1)))"
   ]
  },
  {
   "cell_type": "code",
   "execution_count": null,
   "id": "ea611989",
   "metadata": {},
   "outputs": [],
   "source": []
  }
 ],
 "metadata": {
  "kernelspec": {
   "display_name": "Python 3 (ipykernel)",
   "language": "python",
   "name": "python3"
  },
  "language_info": {
   "codemirror_mode": {
    "name": "ipython",
    "version": 3
   },
   "file_extension": ".py",
   "mimetype": "text/x-python",
   "name": "python",
   "nbconvert_exporter": "python",
   "pygments_lexer": "ipython3",
   "version": "3.9.13"
  }
 },
 "nbformat": 4,
 "nbformat_minor": 5
}
